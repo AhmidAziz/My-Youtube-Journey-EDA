{
 "cells": [
  {
   "cell_type": "markdown",
   "metadata": {},
   "source": [
    "# Exploratory Data Analysis"
   ]
  },
  {
   "cell_type": "code",
   "execution_count": 3,
   "metadata": {},
   "outputs": [],
   "source": [
    "import pandas as pd\n",
    "# using Pandas insted of AWS Glue (DynamicFrame) because the data is only 404 rows\n",
    "# AWS Glue would be selected if the data needs to be divided into workers"
   ]
  },
  {
   "cell_type": "code",
   "execution_count": 4,
   "metadata": {},
   "outputs": [],
   "source": [
    "df = pd.read_csv(r\"C:\\Users\\Ahmid\\OneDrive\\Documents\\GitHub\\My-Youtube-Journey-EDA\\Data\\data.csv\")"
   ]
  },
  {
   "cell_type": "code",
   "execution_count": 5,
   "metadata": {},
   "outputs": [
    {
     "data": {
      "text/plain": [
       "(404, 12)"
      ]
     },
     "execution_count": 5,
     "metadata": {},
     "output_type": "execute_result"
    }
   ],
   "source": [
    "df.shape"
   ]
  },
  {
   "cell_type": "code",
   "execution_count": 6,
   "metadata": {},
   "outputs": [
    {
     "data": {
      "text/plain": [
       "Index(['URL', 'channelTitle', 'commentCount', 'description', 'duration', 'id',\n",
       "       'kind', 'likeCount', 'publishedAT', 'tags', 'videoTitle', 'viewCount'],\n",
       "      dtype='object')"
      ]
     },
     "execution_count": 6,
     "metadata": {},
     "output_type": "execute_result"
    }
   ],
   "source": [
    "df.columns"
   ]
  },
  {
   "cell_type": "code",
   "execution_count": 7,
   "metadata": {},
   "outputs": [
    {
     "data": {
      "text/html": [
       "<div>\n",
       "<style scoped>\n",
       "    .dataframe tbody tr th:only-of-type {\n",
       "        vertical-align: middle;\n",
       "    }\n",
       "\n",
       "    .dataframe tbody tr th {\n",
       "        vertical-align: top;\n",
       "    }\n",
       "\n",
       "    .dataframe thead th {\n",
       "        text-align: right;\n",
       "    }\n",
       "</style>\n",
       "<table border=\"1\" class=\"dataframe\">\n",
       "  <thead>\n",
       "    <tr style=\"text-align: right;\">\n",
       "      <th></th>\n",
       "      <th>commentCount</th>\n",
       "      <th>likeCount</th>\n",
       "      <th>viewCount</th>\n",
       "    </tr>\n",
       "  </thead>\n",
       "  <tbody>\n",
       "    <tr>\n",
       "      <th>count</th>\n",
       "      <td>404.000000</td>\n",
       "      <td>404.000000</td>\n",
       "      <td>404.000000</td>\n",
       "    </tr>\n",
       "    <tr>\n",
       "      <th>mean</th>\n",
       "      <td>111.415842</td>\n",
       "      <td>1862.101485</td>\n",
       "      <td>35792.814356</td>\n",
       "    </tr>\n",
       "    <tr>\n",
       "      <th>std</th>\n",
       "      <td>147.916231</td>\n",
       "      <td>2029.460288</td>\n",
       "      <td>50702.086046</td>\n",
       "    </tr>\n",
       "    <tr>\n",
       "      <th>min</th>\n",
       "      <td>7.000000</td>\n",
       "      <td>142.000000</td>\n",
       "      <td>2444.000000</td>\n",
       "    </tr>\n",
       "    <tr>\n",
       "      <th>25%</th>\n",
       "      <td>34.000000</td>\n",
       "      <td>714.500000</td>\n",
       "      <td>8840.500000</td>\n",
       "    </tr>\n",
       "    <tr>\n",
       "      <th>50%</th>\n",
       "      <td>63.500000</td>\n",
       "      <td>1177.000000</td>\n",
       "      <td>18196.000000</td>\n",
       "    </tr>\n",
       "    <tr>\n",
       "      <th>75%</th>\n",
       "      <td>126.250000</td>\n",
       "      <td>2228.000000</td>\n",
       "      <td>42179.250000</td>\n",
       "    </tr>\n",
       "    <tr>\n",
       "      <th>max</th>\n",
       "      <td>1312.000000</td>\n",
       "      <td>14912.000000</td>\n",
       "      <td>467203.000000</td>\n",
       "    </tr>\n",
       "  </tbody>\n",
       "</table>\n",
       "</div>"
      ],
      "text/plain": [
       "       commentCount     likeCount      viewCount\n",
       "count    404.000000    404.000000     404.000000\n",
       "mean     111.415842   1862.101485   35792.814356\n",
       "std      147.916231   2029.460288   50702.086046\n",
       "min        7.000000    142.000000    2444.000000\n",
       "25%       34.000000    714.500000    8840.500000\n",
       "50%       63.500000   1177.000000   18196.000000\n",
       "75%      126.250000   2228.000000   42179.250000\n",
       "max     1312.000000  14912.000000  467203.000000"
      ]
     },
     "execution_count": 7,
     "metadata": {},
     "output_type": "execute_result"
    }
   ],
   "source": [
    "df.describe()"
   ]
  },
  {
   "cell_type": "code",
   "execution_count": 8,
   "metadata": {},
   "outputs": [
    {
     "data": {
      "text/html": [
       "<div>\n",
       "<style scoped>\n",
       "    .dataframe tbody tr th:only-of-type {\n",
       "        vertical-align: middle;\n",
       "    }\n",
       "\n",
       "    .dataframe tbody tr th {\n",
       "        vertical-align: top;\n",
       "    }\n",
       "\n",
       "    .dataframe thead th {\n",
       "        text-align: right;\n",
       "    }\n",
       "</style>\n",
       "<table border=\"1\" class=\"dataframe\">\n",
       "  <thead>\n",
       "    <tr style=\"text-align: right;\">\n",
       "      <th></th>\n",
       "      <th>URL</th>\n",
       "      <th>channelTitle</th>\n",
       "      <th>commentCount</th>\n",
       "      <th>description</th>\n",
       "      <th>duration</th>\n",
       "      <th>id</th>\n",
       "      <th>kind</th>\n",
       "      <th>likeCount</th>\n",
       "      <th>publishedAT</th>\n",
       "      <th>tags</th>\n",
       "      <th>videoTitle</th>\n",
       "      <th>viewCount</th>\n",
       "    </tr>\n",
       "  </thead>\n",
       "  <tbody>\n",
       "    <tr>\n",
       "      <th>0</th>\n",
       "      <td>https://www.youtube.com/watch?v=tVUIcAanm3c</td>\n",
       "      <td>Artech - أرتك</td>\n",
       "      <td>111</td>\n",
       "      <td>التكنولوجي مش موبايلات بس، الموضوع أكبر من كده...</td>\n",
       "      <td>00:01:24</td>\n",
       "      <td>tVUIcAanm3c</td>\n",
       "      <td>youtube#video</td>\n",
       "      <td>2012</td>\n",
       "      <td>2019-02-22 13:00:18</td>\n",
       "      <td>['Artech', 'تكنولوجي', 'the art of tech', 'هوا...</td>\n",
       "      <td>ARTech | ليه كل الموبايلات شبه بعض؟! ? THE ART...</td>\n",
       "      <td>87233</td>\n",
       "    </tr>\n",
       "    <tr>\n",
       "      <th>1</th>\n",
       "      <td>https://www.youtube.com/watch?v=0MgjIZ5G7m4</td>\n",
       "      <td>Artech - أرتك</td>\n",
       "      <td>48</td>\n",
       "      <td>أيهما أفضل في فئة الهواتف القابلة للطي: \\nHuaw...</td>\n",
       "      <td>00:03:52</td>\n",
       "      <td>0MgjIZ5G7m4</td>\n",
       "      <td>youtube#video</td>\n",
       "      <td>1185</td>\n",
       "      <td>2019-02-25 10:46:30</td>\n",
       "      <td>['ARTech', 'قناة ARTech', 'The ART of Tech', '...</td>\n",
       "      <td>الهواتف القابلة للطي | Galaxy Fold ? Mate X | ...</td>\n",
       "      <td>21344</td>\n",
       "    </tr>\n",
       "    <tr>\n",
       "      <th>2</th>\n",
       "      <td>https://www.youtube.com/watch?v=atQlcBQcsUg</td>\n",
       "      <td>Artech - أرتك</td>\n",
       "      <td>60</td>\n",
       "      <td>تجربة هاتف #Huawei_Mate X | أول #هاتف_قابل_للط...</td>\n",
       "      <td>00:01:45</td>\n",
       "      <td>atQlcBQcsUg</td>\n",
       "      <td>youtube#video</td>\n",
       "      <td>2693</td>\n",
       "      <td>2019-02-25 21:56:35</td>\n",
       "      <td>['ARTech', 'Huawei Mate X', 'تجربة حصرية لهاتف...</td>\n",
       "      <td>تجربة هاتف Huawei Mate X  القابل للطي | لأول م...</td>\n",
       "      <td>77409</td>\n",
       "    </tr>\n",
       "    <tr>\n",
       "      <th>3</th>\n",
       "      <td>https://www.youtube.com/watch?v=6cP2DJY0r6U</td>\n",
       "      <td>Artech - أرتك</td>\n",
       "      <td>52</td>\n",
       "      <td>ملخص سريع لمؤتمر #شاومي و #نوكيا من ضمن معرض #...</td>\n",
       "      <td>00:03:22</td>\n",
       "      <td>6cP2DJY0r6U</td>\n",
       "      <td>youtube#video</td>\n",
       "      <td>973</td>\n",
       "      <td>2019-02-26 19:04:33</td>\n",
       "      <td>['ARTech', 'mwc 2019', 'mwc 2019 xiaomi', 'شاو...</td>\n",
       "      <td>إطلاق هاتف Nokia 9 PureView  | ? وشاومي ترد ب ...</td>\n",
       "      <td>8393</td>\n",
       "    </tr>\n",
       "    <tr>\n",
       "      <th>4</th>\n",
       "      <td>https://www.youtube.com/watch?v=oXeggq05P-I&amp;t=3s</td>\n",
       "      <td>Artech - أرتك</td>\n",
       "      <td>16</td>\n",
       "      <td>أغرب متجات شركة Nubia من معرض MWC 2019\\nالساعة...</td>\n",
       "      <td>00:02:31</td>\n",
       "      <td>oXeggq05P-I</td>\n",
       "      <td>youtube#video</td>\n",
       "      <td>800</td>\n",
       "      <td>2019-02-27 18:01:14</td>\n",
       "      <td>['ARTech', 'Arabhardware', 'nubia alpha smart ...</td>\n",
       "      <td>ساعة ولا موبايل ؟! | أغرب منتجات NUBIA من MWC</td>\n",
       "      <td>7858</td>\n",
       "    </tr>\n",
       "  </tbody>\n",
       "</table>\n",
       "</div>"
      ],
      "text/plain": [
       "                                                URL   channelTitle  \\\n",
       "0       https://www.youtube.com/watch?v=tVUIcAanm3c  Artech - أرتك   \n",
       "1       https://www.youtube.com/watch?v=0MgjIZ5G7m4  Artech - أرتك   \n",
       "2       https://www.youtube.com/watch?v=atQlcBQcsUg  Artech - أرتك   \n",
       "3       https://www.youtube.com/watch?v=6cP2DJY0r6U  Artech - أرتك   \n",
       "4  https://www.youtube.com/watch?v=oXeggq05P-I&t=3s  Artech - أرتك   \n",
       "\n",
       "   commentCount                                        description  duration  \\\n",
       "0           111  التكنولوجي مش موبايلات بس، الموضوع أكبر من كده...  00:01:24   \n",
       "1            48  أيهما أفضل في فئة الهواتف القابلة للطي: \\nHuaw...  00:03:52   \n",
       "2            60  تجربة هاتف #Huawei_Mate X | أول #هاتف_قابل_للط...  00:01:45   \n",
       "3            52  ملخص سريع لمؤتمر #شاومي و #نوكيا من ضمن معرض #...  00:03:22   \n",
       "4            16  أغرب متجات شركة Nubia من معرض MWC 2019\\nالساعة...  00:02:31   \n",
       "\n",
       "            id           kind  likeCount          publishedAT  \\\n",
       "0  tVUIcAanm3c  youtube#video       2012  2019-02-22 13:00:18   \n",
       "1  0MgjIZ5G7m4  youtube#video       1185  2019-02-25 10:46:30   \n",
       "2  atQlcBQcsUg  youtube#video       2693  2019-02-25 21:56:35   \n",
       "3  6cP2DJY0r6U  youtube#video        973  2019-02-26 19:04:33   \n",
       "4  oXeggq05P-I  youtube#video        800  2019-02-27 18:01:14   \n",
       "\n",
       "                                                tags  \\\n",
       "0  ['Artech', 'تكنولوجي', 'the art of tech', 'هوا...   \n",
       "1  ['ARTech', 'قناة ARTech', 'The ART of Tech', '...   \n",
       "2  ['ARTech', 'Huawei Mate X', 'تجربة حصرية لهاتف...   \n",
       "3  ['ARTech', 'mwc 2019', 'mwc 2019 xiaomi', 'شاو...   \n",
       "4  ['ARTech', 'Arabhardware', 'nubia alpha smart ...   \n",
       "\n",
       "                                          videoTitle  viewCount  \n",
       "0  ARTech | ليه كل الموبايلات شبه بعض؟! ? THE ART...      87233  \n",
       "1  الهواتف القابلة للطي | Galaxy Fold ? Mate X | ...      21344  \n",
       "2  تجربة هاتف Huawei Mate X  القابل للطي | لأول م...      77409  \n",
       "3  إطلاق هاتف Nokia 9 PureView  | ? وشاومي ترد ب ...       8393  \n",
       "4      ساعة ولا موبايل ؟! | أغرب منتجات NUBIA من MWC       7858  "
      ]
     },
     "execution_count": 8,
     "metadata": {},
     "output_type": "execute_result"
    }
   ],
   "source": [
    "df.head()"
   ]
  },
  {
   "cell_type": "code",
   "execution_count": 91,
   "metadata": {},
   "outputs": [
    {
     "name": "stdout",
     "output_type": "stream",
     "text": [
      "<class 'pandas.core.frame.DataFrame'>\n",
      "Int64Index: 404 entries, 0 to 165\n",
      "Data columns (total 12 columns):\n",
      " #   Column        Non-Null Count  Dtype         \n",
      "---  ------        --------------  -----         \n",
      " 0   URL           404 non-null    object        \n",
      " 1   channelTitle  404 non-null    object        \n",
      " 2   commentCount  404 non-null    int64         \n",
      " 3   description   404 non-null    object        \n",
      " 4   duration      404 non-null    object        \n",
      " 5   id            404 non-null    object        \n",
      " 6   kind          404 non-null    object        \n",
      " 7   likeCount     404 non-null    int64         \n",
      " 8   publishedAT   404 non-null    datetime64[ns]\n",
      " 9   tags          404 non-null    object        \n",
      " 10  videoTitle    404 non-null    object        \n",
      " 11  viewCount     404 non-null    int64         \n",
      "dtypes: datetime64[ns](1), int64(3), object(8)\n",
      "memory usage: 41.0+ KB\n"
     ]
    }
   ],
   "source": [
    "df.info()"
   ]
  },
  {
   "cell_type": "code",
   "execution_count": 82,
   "metadata": {},
   "outputs": [
    {
     "data": {
      "text/plain": [
       "URL             404\n",
       "channelTitle      2\n",
       "commentCount    188\n",
       "description     401\n",
       "duration        313\n",
       "id              404\n",
       "kind              1\n",
       "likeCount       374\n",
       "publishedAT     404\n",
       "tags            396\n",
       "videoTitle      404\n",
       "viewCount       402\n",
       "dtype: int64"
      ]
     },
     "execution_count": 82,
     "metadata": {},
     "output_type": "execute_result"
    }
   ],
   "source": [
    "df.nunique()"
   ]
  },
  {
   "cell_type": "code",
   "execution_count": 90,
   "metadata": {},
   "outputs": [],
   "source": [
    "df['publishedAT'] = pd.to_datetime(df['publishedAT'])"
   ]
  },
  {
   "cell_type": "code",
   "execution_count": 129,
   "metadata": {},
   "outputs": [
    {
     "data": {
      "text/plain": [
       "0     0 days 00:01:24\n",
       "1     0 days 00:03:52\n",
       "2     0 days 00:01:45\n",
       "3     0 days 00:03:22\n",
       "4     0 days 00:02:31\n",
       "            ...      \n",
       "161   0 days 00:09:31\n",
       "162   0 days 00:11:58\n",
       "163   0 days 00:10:41\n",
       "164   0 days 00:12:12\n",
       "165   0 days 00:04:50\n",
       "Name: duration, Length: 404, dtype: timedelta64[ns]"
      ]
     },
     "execution_count": 129,
     "metadata": {},
     "output_type": "execute_result"
    }
   ],
   "source": [
    "dft = pd.to_timedelta(df['duration'])\n",
    "dft"
   ]
  },
  {
   "cell_type": "code",
   "execution_count": 125,
   "metadata": {},
   "outputs": [
    {
     "data": {
      "text/plain": [
       "0      00:01:24\n",
       "1      00:03:52\n",
       "2      00:01:45\n",
       "3      00:03:22\n",
       "4      00:02:31\n",
       "         ...   \n",
       "161    00:09:31\n",
       "162    00:11:58\n",
       "163    00:10:41\n",
       "164    00:12:12\n",
       "165    00:04:50\n",
       "Name: duration, Length: 404, dtype: object"
      ]
     },
     "execution_count": 125,
     "metadata": {},
     "output_type": "execute_result"
    }
   ],
   "source": [
    "df[\"duration\"]"
   ]
  },
  {
   "cell_type": "code",
   "execution_count": 97,
   "metadata": {
    "scrolled": false
   },
   "outputs": [
    {
     "data": {
      "text/plain": [
       "URL                     object\n",
       "channelTitle            object\n",
       "commentCount             int64\n",
       "description             object\n",
       "duration                object\n",
       "id                      object\n",
       "kind                    object\n",
       "likeCount                int64\n",
       "publishedAT     datetime64[ns]\n",
       "tags                    object\n",
       "videoTitle              object\n",
       "viewCount                int64\n",
       "dtype: object"
      ]
     },
     "execution_count": 97,
     "metadata": {},
     "output_type": "execute_result"
    }
   ],
   "source": [
    "df.dtypes"
   ]
  },
  {
   "cell_type": "markdown",
   "metadata": {},
   "source": [
    "# Estimates of Location\n",
    "## Using Mean, Trimmed Mean and Median"
   ]
  },
  {
   "cell_type": "code",
   "execution_count": 115,
   "metadata": {},
   "outputs": [],
   "source": [
    "from scipy.stats import trim_mean"
   ]
  },
  {
   "cell_type": "code",
   "execution_count": 133,
   "metadata": {},
   "outputs": [
    {
     "data": {
      "text/plain": [
       "(35792.81435643564, 24840.527777777777, 18196.0)"
      ]
     },
     "execution_count": 133,
     "metadata": {},
     "output_type": "execute_result"
    }
   ],
   "source": [
    "df.viewCount.mean(),trim_mean(df.viewCount,0.1),df.viewCount.median()"
   ]
  },
  {
   "cell_type": "code",
   "execution_count": 134,
   "metadata": {},
   "outputs": [
    {
     "data": {
      "text/plain": [
       "(1862.101485148515, 1449.4907407407406, 1177.0)"
      ]
     },
     "execution_count": 134,
     "metadata": {},
     "output_type": "execute_result"
    }
   ],
   "source": [
    "df.likeCount.mean(),trim_mean(df.likeCount,0.1),df.likeCount.median()"
   ]
  },
  {
   "cell_type": "code",
   "execution_count": 135,
   "metadata": {},
   "outputs": [
    {
     "data": {
      "text/plain": [
       "(111.41584158415841, 79.56172839506173, 63.5)"
      ]
     },
     "execution_count": 135,
     "metadata": {},
     "output_type": "execute_result"
    }
   ],
   "source": [
    "df.commentCount.mean(),trim_mean(df.commentCount,0.1),df.commentCount.median() "
   ]
  }
 ],
 "metadata": {
  "kernelspec": {
   "display_name": "Python 3 (ipykernel)",
   "language": "python",
   "name": "python3"
  },
  "language_info": {
   "codemirror_mode": {
    "name": "ipython",
    "version": 3
   },
   "file_extension": ".py",
   "mimetype": "text/x-python",
   "name": "python",
   "nbconvert_exporter": "python",
   "pygments_lexer": "ipython3",
   "version": "3.10.9"
  }
 },
 "nbformat": 4,
 "nbformat_minor": 4
}
